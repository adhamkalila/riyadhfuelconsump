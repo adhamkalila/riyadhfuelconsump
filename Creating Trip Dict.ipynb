{
 "cells": [
  {
   "cell_type": "markdown",
   "metadata": {},
   "source": [
    "# Purpose:\n",
    "This script will create a dict of trips with a car bin assignment randomly assigned in proprtion to the Riyadh fleet bins\n",
    "\n",
    "Inputs:\n",
    "    -"
   ]
  },
  {
   "cell_type": "code",
   "execution_count": 28,
   "metadata": {
    "collapsed": true
   },
   "outputs": [],
   "source": [
    "import pandas as pd\n",
    "import numpy as np\n",
    "import cProfile\n",
    "import time\n",
    "import networkx as nx\n",
    "import pandas as pd\n",
    "\n",
    "import cPickle as pickle\n",
    "import matplotlib.pyplot as plt\n",
    "import matplotlib\n",
    "from scipy import stats\n",
    "from numpy import polyval\n",
    "from collections import defaultdict\n",
    "from joblib import Parallel, delayed\n",
    "import multiprocessing\n",
    "import sys\n",
    "import warnings\n",
    "import cPickle as pickle\n",
    "from make_multiplex import *   # for read_metro(or streets) and clean_\n",
    "from metro.utility import *\n",
    "from fuel_calc import *"
   ]
  },
  {
   "cell_type": "code",
   "execution_count": 5,
   "metadata": {
    "collapsed": true
   },
   "outputs": [],
   "source": [
    "# Load the ITA results with Paths followed by ODs\n",
    "df100 = pd.read_csv('data/DataFrame0_1_100pc_.csv')\n"
   ]
  },
  {
   "cell_type": "code",
   "execution_count": 21,
   "metadata": {
    "collapsed": true
   },
   "outputs": [],
   "source": [
    "j = pickle.load(open(\"data/mx_Riyadh_streets_TAZ_ODs_0_1.pkl\", \"rb\"))\n",
    "g, od = j.to_igraph()"
   ]
  },
  {
   "cell_type": "code",
   "execution_count": 22,
   "metadata": {
    "collapsed": true
   },
   "outputs": [],
   "source": [
    "paths2gid_map = { e.index : e['gid'] for e in g.es}"
   ]
  },
  {
   "cell_type": "code",
   "execution_count": 23,
   "metadata": {
    "collapsed": true
   },
   "outputs": [],
   "source": [
    "# Filters out flows less than one car/hour. Divides by 4 since the ODs are for a 4 hour period\n",
    "df100_sorted = df100[df100['flow']/4>1][['flow','o_con','d_con', 'path']].sort_values(by=['flow'], ascending=False)\n"
   ]
  },
  {
   "cell_type": "code",
   "execution_count": 25,
   "metadata": {},
   "outputs": [
    {
     "data": {
      "text/plain": [
       "1.0"
      ]
     },
     "execution_count": 25,
     "metadata": {},
     "output_type": "execute_result"
    }
   ],
   "source": [
    "# The proportion of cars in Riyadh Fleet\n",
    "Riyadh_fleet_prop = [0.0016624,\n",
    "0.0003830,\n",
    "0.0227833,\n",
    "0.0440881,\n",
    "0.0487076,\n",
    "0.0481790,\n",
    "0.0419814,\n",
    "0.1098564,\n",
    "0.0383885,\n",
    "0.3886037,\n",
    "0.1585104,\n",
    "0.0416826,\n",
    "0.0549435,\n",
    "0.0002298]\n",
    "\n",
    "probs = np.array(Riyadh_fleet_prop)\n",
    "probs /= probs.sum()\n"
   ]
  },
  {
   "cell_type": "markdown",
   "metadata": {},
   "source": [
    "Create Dictionary for all trips in Time 1 to fill details of path and Fuel consumption as attributes"
   ]
  },
  {
   "cell_type": "code",
   "execution_count": 26,
   "metadata": {},
   "outputs": [
    {
     "name": "stdout",
     "output_type": "stream",
     "text": [
      "Time taken is 373.240859985 sec\n"
     ]
    }
   ],
   "source": [
    "import time\n",
    "import ast\n",
    "start = time.time()\n",
    "rand_flow=[]\n",
    "tripnumber = 0\n",
    "Trips_time1_100_p1 = {}\n",
    "factor = 1.5  \n",
    "hours_of_period = 4\n",
    "for ind in range(len(df100[df100['flow']/4>1])):\n",
    "    pp=df100_sorted.iloc[ind]\n",
    "    paths_parsed = ast.literal_eval(pp[3].replace('][', '],['))\n",
    "    if len(paths_parsed[0]) == 0: continue\n",
    "    paths_gid = []\n",
    "    for p in range(4):\n",
    "        paths_gid.append(map(paths2gid_map.get, paths_parsed[p][1:-1])) # converts igraph edges to nx street gid\n",
    "    \n",
    "    \n",
    "    flow = pp[0]/4 # divided by 4 as a result of the output method [car/morning period]\n",
    "    flow = flow*factor/hours_of_period # factored by 1.5 for peak hour and divided by 4 for hourly rate [car/hour]\n",
    "    for rr in range(int(round(flow))):\n",
    "        car_FEbin= np.random.choice(14, p = probs)\n",
    "        Trips_time1_100_p1[tripnumber]={'o_con':pp[1],'d_con':pp[2],'path': paths_gid[0], 'car_FEbin':car_FEbin}\n",
    "        tripnumber += 1\n",
    "    if round(flow) == 0: break\n",
    "print 'Time taken is', time.time() - start, 'sec'\n"
   ]
  },
  {
   "cell_type": "code",
   "execution_count": 27,
   "metadata": {
    "collapsed": true
   },
   "outputs": [],
   "source": [
    "# Load riyadh edge congested times \n",
    "route_edges_am = pd.read_csv('data/riyadh_route_edges_am.txt', delimiter=' ')\n"
   ]
  },
  {
   "cell_type": "code",
   "execution_count": 38,
   "metadata": {
    "collapsed": true
   },
   "outputs": [],
   "source": [
    "# Load streets network with FC by bin as an attribute of each edge\n",
    "with open(\"data/Riyadh_streets_FCcalculated_time1_targeted_reduction.pkl\",\"rb\") as i:\n",
    "    streets_1 = pickle.load(i)\n"
   ]
  },
  {
   "cell_type": "code",
   "execution_count": 33,
   "metadata": {
    "collapsed": true
   },
   "outputs": [],
   "source": [
    "# Build Gid_2_edge dict\n",
    "gid_2_edge = {}\n",
    "for n1,n2 in streets_1.edges():\n",
    "\n",
    "    gid_2_edge[streets_1[n1][n2]['gid']] = (n1, n2)"
   ]
  },
  {
   "cell_type": "code",
   "execution_count": null,
   "metadata": {
    "collapsed": true
   },
   "outputs": [],
   "source": [
    "# Parallelizing the Fuel consumption per trip calculation over 10 cores"
   ]
  },
  {
   "cell_type": "code",
   "execution_count": 29,
   "metadata": {
    "collapsed": true
   },
   "outputs": [],
   "source": [
    "No_trips = len(Trips_time1_100_p1)\n",
    "Random_rank_all_trips_time1_100 = np.random.choice(No_trips, No_trips, replace=False)\n"
   ]
  },
  {
   "cell_type": "code",
   "execution_count": 41,
   "metadata": {
    "collapsed": true
   },
   "outputs": [],
   "source": [
    "array_trip=[]\n",
    "div=int(len(Trips_time1_100_p1)/10.0)\n",
    "app={}\n",
    "k=1\n",
    "for keys in Random_rank_all_trips_time1_100:\n",
    "    app[keys]=Trips_time1_100_p1[keys]   \n",
    "    if k%div==0:\n",
    "        array_trip.append(app)\n",
    "        app={}\n",
    "    k=k+1"
   ]
  },
  {
   "cell_type": "code",
   "execution_count": 40,
   "metadata": {
    "collapsed": true
   },
   "outputs": [],
   "source": [
    "matched_Edges_1 = []\n",
    "for e1,e2 in streets_1.edges():\n",
    "    time1 = streets_1[e1][e2]['FC_bybin_time1']\n",
    "    if len(time1) > 0: matched_Edges_1.append(streets_1[e1][e2]['gid'])\n"
   ]
  },
  {
   "cell_type": "code",
   "execution_count": 43,
   "metadata": {
    "collapsed": true
   },
   "outputs": [],
   "source": [
    "mat_edg1=defaultdict(int)\n",
    "for k in matched_Edges_1:\n",
    "    mat_edg1[k]=1\n"
   ]
  },
  {
   "cell_type": "code",
   "execution_count": 63,
   "metadata": {
    "collapsed": true,
    "scrolled": true
   },
   "outputs": [],
   "source": [
    "attrs = ['FC_tripd','CS_FC_time1','CS_FC_tripd' ]\n",
    "def functrips(pos):\n",
    "    kl=0\n",
    "    start=time.time()\n",
    "    totp=float(len(pos))\n",
    "    for trip, details in pos.iteritems():\n",
    "        kl=kl+1\n",
    "        tm = 0 #[hr]\n",
    "        dist = 0\n",
    "        FC_bytrip = 0\n",
    "        car_FEbin = details['car_FEbin']\n",
    "        for gid in details['path']:\n",
    "            e1,e2 = gid_2_edge[gid]\n",
    "            if mat_edg1[gid]!=1: continue # skips edges without fuel for time 1. For comparison with SP fuel cons\n",
    "            time_path = route_edges_am[route_edges_am['eid']==gid]['travel_time'].values[0] # for [min]\n",
    "            tm += time_path # congested time in [min]\n",
    "            dist += streets_1[e1][e2]['len_km'] # [km]\n",
    "            FC_bytrip += streets_1[e1][e2]['FC_bybin_time1'][0][car_FEbin] # [us gal]\n",
    "        details['triptime1_m'] = tm # [min]\n",
    "        if dist == 0:\n",
    "            for attr in attrs:\n",
    "                details[attr] = 0\n",
    "            continue\n",
    "        details['FC_time1'] = FC_bytrip*3.78541 #[liter]\n",
    "        details['FC_tripd'] = (FC_bytrip*3.78541)/dist # [l/km]\n",
    "        CS_FC_time1 = Fuelconsump_Riyadhbin(0,tm*60,0,dist, [car_FEbin])\n",
    "        details['CS_FC_time1'] = CS_FC_time1*3.78541 #[liter]\n",
    "        details['CS_FC_tripd'] = (CS_FC_time1*3.78541)/dist # [l/km]\n",
    "\n",
    "        if kl == int(totp*0.01): print '1%  done in', time.time() - start, 'sec'\n",
    "        if kl == int(totp*0.1): print '10%  done in', time.time() - start, 'sec'\n",
    "        if kl == int(totp*0.3): print '30%  done in', time.time() - start, 'sec'\n",
    "        if kl == int(totp*0.6): print '60%  done in', time.time() - start, 'sec'\n",
    "        if kl == int(totp*0.9): print '90%  done in', time.time() - start, 'sec'\n",
    "\n",
    "\n",
    "        \n",
    "    return pos\n"
   ]
  },
  {
   "cell_type": "code",
   "execution_count": null,
   "metadata": {},
   "outputs": [
    {
     "name": "stdout",
     "output_type": "stream",
     "text": [
      "1%  done in 37.9037060738 sec\n",
      "1%  done in 37.3717279434 sec\n",
      "1%  done in 35.4229888916 sec\n",
      "1%  done in 39.0108659267 sec\n",
      "1%  done in 36.1518950462 sec\n",
      "1%  done in 44.8389930725 sec\n",
      "1%  done in 47.6067779064 sec\n",
      "1%  done in 50.3270530701 sec\n",
      "10%  done in 441.595355988 sec\n",
      "10%  done in 418.067780018 sec\n",
      "10%  done in 447.092484951 sec\n",
      "10%  done in 424.754855871 sec\n",
      "10%  done in 429.368075848 sec\n",
      "10%  done in 498.370569944 sec\n",
      "10%  done in 508.028415918 sec\n",
      "10%  done in 455.457504034 sec\n",
      "10%  done in 517.989043951 sec\n",
      "10%  done in 538.119520903 sec\n",
      "30%  done in 1382.90139389 sec\n",
      "30%  done in 1361.05912495 sec\n",
      "30%  done in 1523.47536206 sec\n",
      "30%  done in 1431.591856 sec\n",
      "30%  done in 1543.82080197 sec\n",
      "30%  done in 1606.54575801 sec\n",
      "30%  done in 1597.9485631 sec\n",
      "30%  done in 1587.83177996 sec\n",
      "30%  done in 1564.99948692 sec\n",
      "60%  done in 2828.992208 sec\n",
      "60%  done in 2783.35126781 sec\n",
      "60%  done in 2824.85623384 sec\n",
      "60%  done in 3183.5289309 sec\n",
      "60%  done in 3179.35184002 sec\n",
      "60%  done in 3201.07626104 sec\n",
      "60%  done in 3207.27303886 sec\n",
      "90%  done in 4236.19274902 sec\n",
      "90%  done in 4212.26227689 sec\n",
      "90%  done in 4285.82095289 sec\n",
      "90%  done in 4212.51753783 sec\n",
      "90%  done in 4748.43990207 sec\n",
      "90%  done in 4780.897578 sec\n",
      "90%  done in 4825.61529398 sec\n",
      "90%  done in 4764.42061591 sec\n",
      "90%  done in 4742.85519886 sec\n"
     ]
    }
   ],
   "source": [
    "pl2=Parallel(n_jobs=10)(delayed(functrips)(il) for il in array_trip)"
   ]
  },
  {
   "cell_type": "code",
   "execution_count": 67,
   "metadata": {},
   "outputs": [
    {
     "ename": "KeyError",
     "evalue": "'tripLen_km'",
     "output_type": "error",
     "traceback": [
      "\u001b[1;31m---------------------------------------------------------------------------\u001b[0m",
      "\u001b[1;31mKeyError\u001b[0m                                  Traceback (most recent call last)",
      "\u001b[1;32m<ipython-input-67-bc13be436691>\u001b[0m in \u001b[0;36m<module>\u001b[1;34m()\u001b[0m\n\u001b[0;32m     18\u001b[0m         \u001b[0mtrip_dist_km\u001b[0m\u001b[1;33m.\u001b[0m\u001b[0mappend\u001b[0m\u001b[1;33m(\u001b[0m\u001b[0mdist\u001b[0m\u001b[1;33m)\u001b[0m\u001b[1;33m\u001b[0m\u001b[0m\n\u001b[0;32m     19\u001b[0m \u001b[1;33m\u001b[0m\u001b[0m\n\u001b[1;32m---> 20\u001b[1;33m \u001b[0mCS_alltrips\u001b[0m \u001b[1;33m=\u001b[0m \u001b[1;33m[\u001b[0m\u001b[0mdetails\u001b[0m\u001b[1;33m[\u001b[0m\u001b[1;34m'CS_FC_time1'\u001b[0m\u001b[1;33m]\u001b[0m \u001b[1;32mfor\u001b[0m \u001b[0mtrip\u001b[0m\u001b[1;33m,\u001b[0m \u001b[0mdetails\u001b[0m \u001b[1;32min\u001b[0m \u001b[0mTrips_time1_100_p1\u001b[0m\u001b[1;33m.\u001b[0m\u001b[0miteritems\u001b[0m\u001b[1;33m(\u001b[0m\u001b[1;33m)\u001b[0m \u001b[1;32mif\u001b[0m \u001b[0mdetails\u001b[0m\u001b[1;33m[\u001b[0m\u001b[1;34m'tripLen_km'\u001b[0m\u001b[1;33m]\u001b[0m\u001b[1;33m>\u001b[0m\u001b[1;36m0\u001b[0m \u001b[1;32mand\u001b[0m \u001b[0mdetails\u001b[0m\u001b[1;33m[\u001b[0m\u001b[1;34m'FC_time1'\u001b[0m\u001b[1;33m]\u001b[0m \u001b[1;33m>\u001b[0m\u001b[1;36m0\u001b[0m\u001b[1;33m]\u001b[0m\u001b[1;33m\u001b[0m\u001b[0m\n\u001b[0m",
      "\u001b[1;31mKeyError\u001b[0m: 'tripLen_km'"
     ]
    }
   ],
   "source": [
    "# collect the results of pl, corrected to reciprocate and save the results to the original trip dict\n",
    "trip_tottime_m2 =[]\n",
    "trip_dist_km =[]\n",
    "\n",
    "attribs = ['triptime1_m','FC_time1','FC_tripd','CS_FC_time1','CS_FC_tripd']\n",
    "for i, array in enumerate(pl2):\n",
    "    for trip,details in array.iteritems():    \n",
    "        for attr in attribs:\n",
    "            \n",
    "            if details['FC_time1'] == 0:\n",
    "                Trips_time1_100_p1[trip][attr] = 0  \n",
    "                Trips_time1_100_p1[trip]['tripLen_km'] = 0\n",
    "            else: Trips_time1_100_p1[trip][attr] = details[attr]\n",
    "        trip_tottime_m2.append(details['triptime1_m'])\n",
    "        if details['FC_tripd']==0: continue\n",
    "        dist = details['FC_time1']/details['FC_tripd']\n",
    "        Trips_time1_100_p1[trip]['tripLen_km'] = dist \n",
    "        trip_dist_km.append(dist)\n",
    "\n"
   ]
  },
  {
   "cell_type": "code",
   "execution_count": 71,
   "metadata": {},
   "outputs": [],
   "source": [
    "# output the completed trip dict to pickle\n",
    "with  open('Trips_time1_100_github.pkl', 'wb') as o:\n",
    "    \n",
    "    pickle.dump(Trips_time1_100_p1,o)"
   ]
  }
 ],
 "metadata": {
  "kernelspec": {
   "display_name": "Python 2",
   "language": "python",
   "name": "python2"
  },
  "language_info": {
   "codemirror_mode": {
    "name": "ipython",
    "version": 2
   },
   "file_extension": ".py",
   "mimetype": "text/x-python",
   "name": "python",
   "nbconvert_exporter": "python",
   "pygments_lexer": "ipython2",
   "version": "2.7.12"
  }
 },
 "nbformat": 4,
 "nbformat_minor": 1
}

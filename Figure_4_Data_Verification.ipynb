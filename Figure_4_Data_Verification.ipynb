{
 "cells": [
  {
   "cell_type": "markdown",
   "metadata": {},
   "source": [
    "# Purpose:\n",
    "This notebook will show the creation of Figure 4 of the Paper"
   ]
  },
  {
   "cell_type": "markdown",
   "metadata": {},
   "source": [
    "Import Modules"
   ]
  },
  {
   "cell_type": "code",
   "execution_count": 15,
   "metadata": {
    "collapsed": true
   },
   "outputs": [],
   "source": [
    "import warnings\n",
    "import pandas as pd\n",
    "import numpy as np\n",
    "import matplotlib.pyplot as plt\n",
    "import matplotlib\n",
    "import csv\n",
    "import pylab\n",
    "pylab.rcParams['figure.figsize'] = (35.0, 8.0) #makes figure size wider\n",
    "import datetime\n",
    "from math import radians, cos, sin, asin, sqrt\n",
    "import math\n",
    "import time\n",
    "import scipy.io as sio\n",
    "from TPtrip import *\n",
    "from fuel_calc import *\n",
    "import cPickle as pickle"
   ]
  },
  {
   "cell_type": "markdown",
   "metadata": {},
   "source": [
    "## Figure A: Distribution of Trip Distances in time 1 (8 - 9 AM)"
   ]
  },
  {
   "cell_type": "code",
   "execution_count": 2,
   "metadata": {},
   "outputs": [
    {
     "name": "stdout",
     "output_type": "stream",
     "text": [
      "Performed in 296.466650009 sec\n"
     ]
    }
   ],
   "source": [
    "# Load the All trips filtered pickle to extract the appropriate TripTable entries \n",
    "\n",
    "t = time.time()\n",
    "Alltrips_staysremoved = pickle.load( open( \"data/Alltrips_Github.pkl\", \"rb\" ) )\n",
    "elapsed = time.time() - t\n",
    "print 'Performed in', elapsed, 'sec'"
   ]
  },
  {
   "cell_type": "code",
   "execution_count": 3,
   "metadata": {
    "collapsed": true
   },
   "outputs": [],
   "source": [
    "# Load Segments_byEdge time 1 for matched segments (for free flow speed from edges)\n",
    "\n",
    "segments_byEdge_time1 = pickle.load(open('data/matchedSegmentsbyEdge_time1_8_9AM_weekdays_github.pkl', 'r'))"
   ]
  },
  {
   "cell_type": "code",
   "execution_count": 4,
   "metadata": {
    "collapsed": true
   },
   "outputs": [],
   "source": [
    "# Load streets network with FC Estimates filled \n",
    "with  open( \"data/Riyadh_streets_FC_Figure3_alltimes.pkl\", \"rb\" ) as i:\n",
    "    \n",
    "    streets =  pickle.load(i )"
   ]
  },
  {
   "cell_type": "code",
   "execution_count": 5,
   "metadata": {
    "collapsed": true
   },
   "outputs": [],
   "source": [
    "# Extract list of edges (order unimportant, repetition not allowed) for each trip\n",
    "# inherent assumption: route traverses an edge only once.\n",
    "matchedtrips_time1 = {}\n",
    "for edge in segments_byEdge_time1:\n",
    "    for trip in segments_byEdge_time1[edge]:\n",
    "        if not( trip in matchedtrips_time1):\n",
    "            matchedtrips_time1[trip] = [edge]\n",
    "        else: \n",
    "            matchedtrips_time1[trip].append(edge)\n",
    "\n",
    "# build a dictionary of tripID to index for the list Alltrips_staysremoved\n",
    "tripids = {}\n",
    "for i in range(len(Alltrips_staysremoved)):\n",
    "    \n",
    "    tripids[Alltrips_staysremoved[i].TripID]=i \n"
   ]
  },
  {
   "cell_type": "code",
   "execution_count": 6,
   "metadata": {
    "collapsed": true
   },
   "outputs": [],
   "source": [
    "# filter for time1 trips taking into account GMT time\n",
    "\n",
    "timeWindow = [8,9]\n",
    "time1 = True\n",
    "starttime = datetime.time(timeWindow[0]-3,0,0)\n",
    "endtime = datetime.time(timeWindow[1]-3,0,0)\n",
    "weekdays = [1,2,3,4,7] # weekdays in isoweekday datetime format\n",
    "\n",
    "Time1Trips = []\n",
    "for i in range(len(Alltrips_staysremoved)):\n",
    "    if (starttime <= Alltrips_staysremoved[i].PickUp_Time.time() <= endtime) and Alltrips_staysremoved[i].PickUp_Time.isoweekday() in weekdays:\n",
    "        Time1Trips.append(Alltrips_staysremoved[i]) # this also removes the list is lists to make it a list of TP_trip instances directly\n",
    "        \n",
    "trip_dist_fromgps = []\n",
    "dist_time1_b = []\n",
    "for trip in matchedtrips_time1:\n",
    "    index = tripids[trip]\n",
    "    sumdist = [Alltrips_staysremoved[index].TripTable[i][4] for i in range(len(Alltrips_staysremoved[index].TripTable))]\n",
    "    sumdist = np.sum(sumdist)\n",
    "    trip_dist_fromgps.append(sumdist)\n",
    "    dist_time1_b.append(float(Alltrips_staysremoved[index].Distance_KM))\n",
    "    "
   ]
  },
  {
   "cell_type": "code",
   "execution_count": 7,
   "metadata": {
    "collapsed": true
   },
   "outputs": [],
   "source": [
    "# Build a dict between edge nodes and GID:\n",
    "gid_2_edge = {}\n",
    "for n1,n2 in streets.edges():\n",
    "\n",
    "    gid_2_edge[streets[n1][n2]['gid']] = (n1, n2)"
   ]
  },
  {
   "cell_type": "code",
   "execution_count": 8,
   "metadata": {
    "collapsed": true
   },
   "outputs": [],
   "source": [
    "# build a dictionary of tripID to index for the list Alltrips_staysremoved\n",
    "tripids = {}\n",
    "for i in range(len(Alltrips_staysremoved)):\n",
    "    \n",
    "    tripids[Alltrips_staysremoved[i].TripID]=i "
   ]
  },
  {
   "cell_type": "code",
   "execution_count": 9,
   "metadata": {
    "collapsed": true
   },
   "outputs": [],
   "source": [
    "# Extract Free flow time for each segment, sum them for each trip and save to dict\n",
    "\n",
    "trip_ff_totaltime = {}\n",
    "for trip in matchedtrips_time1:\n",
    "    for edge in matchedtrips_time1[trip]:\n",
    "        e1,e2 = gid_2_edge[edge]\n",
    "        fftime = streets[e1][e2]['cost_time_m']\n",
    "        if not(trip in trip_ff_totaltime): \n",
    "            trip_ff_totaltime[trip] = fftime\n",
    "        else: \n",
    "            trip_ff_totaltime[trip] += fftime\n"
   ]
  },
  {
   "cell_type": "code",
   "execution_count": 10,
   "metadata": {
    "collapsed": true
   },
   "outputs": [],
   "source": [
    "# List of Observed trip durations for trips with matched segments\n",
    "trip_obs_durations_time1 = {}\n",
    "for key in trip_ff_totaltime:\n",
    "    index = tripids[key]\n",
    "    duration = Alltrips_staysremoved[index].Dropoff_Time - Alltrips_staysremoved[index].PickUp_Time\n",
    "    trip_obs_durations_time1[key]= duration.seconds/60.\n",
    "\n",
    "ff_TT_time1 = [val for key, val in trip_ff_totaltime.iteritems()]\n",
    "cong_TT_time1 = [val for key, val in trip_obs_durations_time1.iteritems()]"
   ]
  },
  {
   "cell_type": "code",
   "execution_count": 11,
   "metadata": {
    "collapsed": true
   },
   "outputs": [],
   "source": [
    "\n",
    "# create a dict of Fuel consumption of matched trips using constant speed (Streestmart model with 0 acc)\n",
    "FC_constantspeed = []\n",
    "FE_constantspeed = []\n",
    "FC_constantspeed_Rprop = []\n",
    "FE_constantspeed_Rprop = []\n",
    "for trip in matchedtrips_time1:\n",
    "    tm = float((Alltrips_staysremoved[tripids[trip]].Dropoff_Time - Alltrips_staysremoved[tripids[trip]].PickUp_Time).seconds)\n",
    "    ivdt = float(Alltrips_staysremoved[tripids[trip]].Distance_KM)\n",
    "    fuel_gal = Fuelconsump_Riyadhbin(0,tm,0,ivdt,bin_num=[8])\n",
    "    fuel_gal_Rprop = Fuelconsump_Riyadhbin(0,tm,0,ivdt, range(14))\n",
    "    FC_constantspeed.append(fuel_gal)\n",
    "    FC_constantspeed_Rprop.append(fuel_gal_Rprop)\n",
    "    MPG = (float(Alltrips_staysremoved[tripids[trip]].Distance_KM)*0.621371)/fuel_gal\n",
    "    MPG_Rprop = (float(Alltrips_staysremoved[tripids[trip]].Distance_KM)*0.621371)/fuel_gal_Rprop\n",
    "    FE_constantspeed.append(MPG)\n",
    "    FE_constantspeed_Rprop.append(MPG_Rprop)"
   ]
  },
  {
   "cell_type": "code",
   "execution_count": 20,
   "metadata": {
    "collapsed": true
   },
   "outputs": [],
   "source": [
    "\n",
    "# Create a dict with keys the tripID and the values another dic with keys the GPS index and value the triptable list index\n",
    "# This is mainly for the trips that have been split around stays (~1400 trips) which have TripTable indices different from GPS indices\n",
    "GPSi_2_TripTablei = {}\n",
    "for i in range(len(Alltrips_staysremoved)):\n",
    "    GPSi_2_TripTablei[Alltrips_staysremoved[i].TripID] = {}\n",
    "    for u in range(len(Alltrips_staysremoved[i].TripTable)):\n",
    "        GPS_index = Alltrips_staysremoved[i].TripTable[u][0]\n",
    "        GPSi_2_TripTablei[Alltrips_staysremoved[i].TripID][GPS_index] = u\n"
   ]
  },
  {
   "cell_type": "code",
   "execution_count": 46,
   "metadata": {
    "collapsed": true
   },
   "outputs": [],
   "source": [
    "\n",
    "def computemetrics(segments, tripid):\n",
    "    \"\"\"\n",
    "    Computing metrics of a given set of Triptable entries:\n",
    "    function that takes list of triptable segments and returns metrics\n",
    "    \"\"\"\n",
    "\n",
    "    ti = 0\n",
    "    tm = 0\n",
    "    ivdt = 0\n",
    "    iadx=0\n",
    "    index = tripids[tripid]\n",
    "    for seg in segments:\n",
    "        table_i = GPSi_2_TripTablei[tripid][seg[0]]\n",
    "        time = seg[3]\n",
    "        simple_dist = seg[4]\n",
    "        speed = seg[5]\n",
    "        acc = seg[6]\n",
    "        if speed == 0: ti = ti + time\n",
    "        else: tm = tm + time\n",
    "        ivdt = ivdt + simple_dist\n",
    "        #calculates avg_dist covered around a single GPS point as the average of the distances of the segements including that point.\n",
    "        avg_dist = 0.5*(simple_dist+Alltrips_staysremoved[index].TripTable[table_i-1][4])*1000 # converts from km to m\n",
    "        iadx = iadx + abs(acc*avg_dist)\n",
    "    return [ti,tm,iadx,ivdt]\n"
   ]
  },
  {
   "cell_type": "code",
   "execution_count": 50,
   "metadata": {
    "collapsed": true
   },
   "outputs": [],
   "source": [
    "# creates a dict of FC of matched trips using speed profiles\n",
    "\n",
    "FC_speedprofiles = []\n",
    "FE_speedprofiles = []\n",
    "for trip in matchedtrips_time1:\n",
    "    index = tripids[trip]\n",
    "    segments = [Alltrips_staysremoved[index].TripTable[i] for i in range(len(Alltrips_staysremoved[index].TripTable))]\n",
    "    ti=0;tm=0;iadx=0;ivdt=0\n",
    "    ti, tm, iadx, ivdt = computemetrics(segments, trip)\n",
    "    fuel_gal = Fuelconsump_Riyadhbin(ti, tm, iadx, ivdt, bin_num=[8])\n",
    "    FC_speedprofiles.append(fuel_gal)\n",
    "    MPG = (float(Alltrips_staysremoved[index].Distance_KM)*0.621371)/fuel_gal\n",
    "    FE_speedprofiles.append(MPG)\n",
    "\n"
   ]
  },
  {
   "cell_type": "code",
   "execution_count": 59,
   "metadata": {
    "collapsed": true
   },
   "outputs": [],
   "source": [
    "# FC and FE with speed profiles and using all bins in Riyadh Fleet proportions\n",
    "FC_speedprofiles_Rprop = []\n",
    "FE_speedprofiles_Rprop = []\n",
    "for trip in matchedtrips_time1:\n",
    "    index = tripids[trip]\n",
    "    segments = [Alltrips_staysremoved[index].TripTable[i] for i in range(len(Alltrips_staysremoved[index].TripTable))]\n",
    "    ti=0;tm=0;iadx=0;ivdt=0\n",
    "    ti, tm, iadx, ivdt = computemetrics(segments, trip)\n",
    "    fuel_gal = Fuelconsump_Riyadhbin(ti, tm, iadx, ivdt, range(14))\n",
    "    FC_speedprofiles_Rprop.append(fuel_gal)\n",
    "    MPG = (float(Alltrips_staysremoved[index].Distance_KM)*0.621371)/fuel_gal # converts [km] to [mi] and FC to FE\n",
    "    FE_speedprofiles_Rprop.append(MPG)"
   ]
  },
  {
   "cell_type": "code",
   "execution_count": 92,
   "metadata": {},
   "outputs": [],
   "source": [
    "# create a dict of Fuel consumption of matched trips using constant speed\n",
    "FC_constantspeed = []\n",
    "FE_constantspeed = []\n",
    "FC_constantspeed_Rprop = []\n",
    "FE_constantspeed_Rprop = []\n",
    "IVDTS = []\n",
    "times = []\n",
    "for trip in matchedtrips_time1:\n",
    "    \n",
    "    duration = Alltrips_staysremoved[tripids[trip]].Dropoff_Time - Alltrips_staysremoved[tripids[trip]].PickUp_Time\n",
    "\n",
    "    tm = float(duration.seconds)\n",
    "    ivdt = float(Alltrips_staysremoved[tripids[trip]].Distance_KM)\n",
    "    fuel_gal = Fuelconsump_Riyadhbin(0,tm,0,ivdt,bin_num=[8])\n",
    "    fuel_gal_Rprop = Fuelconsump_Riyadhbin(0,tm,0,ivdt, range(14))\n",
    "    FC_constantspeed.append(fuel_gal)\n",
    "    FC_constantspeed_Rprop.append(fuel_gal_Rprop)\n",
    "    MPG = (float(Alltrips_staysremoved[tripids[trip]].Distance_KM)*0.621371)/fuel_gal\n",
    "    MPG_Rprop = (float(Alltrips_staysremoved[tripids[trip]].Distance_KM)*0.621371)/fuel_gal_Rprop\n",
    "    FE_constantspeed.append(MPG)\n",
    "    FE_constantspeed_Rprop.append(MPG_Rprop)\n",
    "    IVDTS.append(ivdt)\n",
    "    times.append(tm)\n",
    "    \n"
   ]
  },
  {
   "cell_type": "code",
   "execution_count": 94,
   "metadata": {
    "collapsed": true
   },
   "outputs": [],
   "source": [
    "# Covnert units from US galons to Liters\n",
    "FC_constantspeed_metric = np.multiply(FC_constantspeed, 3.78541)\n",
    "FC_speedprofles_metric = np.multiply(FC_speedprofiles, 3.78541)\n",
    "# Convert FE from MPG to KM/l\n",
    "FE_speedprofiles_metric= np.multiply(FE_speedprofiles,0.4251437075)\n",
    "FE_constantspeed_metric= np.multiply(FE_constantspeed, 0.4251437075)\n",
    "FE_speedprofiles_Rprop_metric= np.multiply(FE_speedprofiles_Rprop,0.4251437075)\n",
    "FE_constantspeed_Rprop_metric= np.multiply(FE_constantspeed_Rprop,0.4251437075)"
   ]
  },
  {
   "cell_type": "code",
   "execution_count": 95,
   "metadata": {},
   "outputs": [
    {
     "name": "stderr",
     "output_type": "stream",
     "text": [
      "/usr/local/lib/python2.7/dist-packages/ipykernel_launcher.py:18: MatplotlibDeprecationWarning: axes.hold is deprecated.\n",
      "    See the API Changes document (http://matplotlib.org/api/api_changes.html)\n",
      "    for more details.\n",
      "/usr/local/lib/python2.7/dist-packages/ipykernel_launcher.py:26: MatplotlibDeprecationWarning: axes.hold is deprecated.\n",
      "    See the API Changes document (http://matplotlib.org/api/api_changes.html)\n",
      "    for more details.\n",
      "/usr/local/lib/python2.7/dist-packages/ipykernel_launcher.py:33: MatplotlibDeprecationWarning: axes.hold is deprecated.\n",
      "    See the API Changes document (http://matplotlib.org/api/api_changes.html)\n",
      "    for more details.\n"
     ]
    },
    {
     "data": {
      "image/png": "[encoded data removed]",
      "text/plain": [
       "<matplotlib.figure.Figure at 0x7f79162d3550>"
      ]
     },
     "metadata": {},
     "output_type": "display_data"
    }
   ],
   "source": [
    "# Putting all A B C figures into one and saving as eps\n",
    "\n",
    "plt.clf\n",
    "plt.close()\n",
    "\n",
    "fig, ax = plt.subplots(1,3, figsize =(16,3)) # one row, 3 columns\n",
    "plt.tight_layout()\n",
    "font = {'family' : 'normal',\n",
    "        'size'   : 15}\n",
    "\n",
    "matplotlib.rc('font', **font)\n",
    "matplotlib.rc('xtick', labelsize=14) \n",
    "matplotlib.rc('ytick', labelsize=14)\n",
    "matplotlib.rc('legend',**{'fontsize':11})\n",
    "\n",
    "bins0 = np.linspace(0, 50, 50)\n",
    "ax[0].hist(dist_time1_b,bins0 , normed=1,  alpha = 0.5, label = 'Reported Distance')\n",
    "ax[0].hold(True)\n",
    "ax[0].hist(trip_dist_fromgps, bins0, normed = 1, alpha = 0.5, label = 'Calc. GPS Distance')\n",
    "ax[0].set_ylabel('PDF')\n",
    "ax[0].set_xlabel('Distance of Trips [km]')\n",
    "ax[0].legend(loc = 'upper right')\n",
    "\n",
    "bins1 = np.linspace(0, 110, 50)\n",
    "ax[1].hist(ff_TT_time1, bins1,normed=True,alpha = 0.5, label = 'Free Flow TT')\n",
    "ax[1].hold(True)\n",
    "ax[1].hist(cong_TT_time1, bins1,normed=True,alpha = 0.5, label = 'Observed Flow TT')\n",
    "ax[1].set_xlabel('Travel Time [min]')\n",
    "ax[1].legend(loc = 'upper right')\n",
    "\n",
    "bins2 = np.linspace(0,35, 35)\n",
    "ax[2].hist(FE_constantspeed_metric,bins2,normed=True,alpha = 0.5, label = 'Constant Speed 1 bin')\n",
    "ax[2].hold(True)\n",
    "ax[2].hist(FE_speedprofiles_metric,bins2, normed=True,alpha = 0.5, label = 'Speed Profile 1 bin')\n",
    "plt.hist(FE_constantspeed_Rprop_metric,bins2, normed=True,alpha = 0.5, label = 'Constant Speed all bins')\n",
    "ax[2].hist(FE_speedprofiles_Rprop_metric,bins2, normed=True,alpha = 0.5, label = 'Speed Profile all bins')\n",
    "ax[2].set_xlabel('Fuel Economies [km/l]')\n",
    "# ax[2].set_xlim([0,25])\n",
    "plt.legend(loc='center left', bbox_to_anchor=(1, 0.5))\n",
    "# plt.legend(loc = 'upper right')\n",
    "\n",
    "\n",
    "plt.show()\n",
    "# plt.savefig('Figure_Verification_onerow_1_metric_new.eps', bbox_inches = 'tight', dpi = 300)"
   ]
  },
  {
   "cell_type": "code",
   "execution_count": null,
   "metadata": {
    "collapsed": true
   },
   "outputs": [],
   "source": []
  }
 ],
 "metadata": {
  "kernelspec": {
   "display_name": "Python 2",
   "language": "python",
   "name": "python2"
  },
  "language_info": {
   "codemirror_mode": {
    "name": "ipython",
    "version": 2
   },
   "file_extension": ".py",
   "mimetype": "text/x-python",
   "name": "python",
   "nbconvert_exporter": "python",
   "pygments_lexer": "ipython2",
   "version": "2.7.12"
  }
 },
 "nbformat": 4,
 "nbformat_minor": 1
}
